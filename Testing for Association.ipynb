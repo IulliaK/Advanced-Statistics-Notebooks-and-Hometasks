{
 "cells": [
  {
   "cell_type": "code",
   "execution_count": 1,
   "metadata": {},
   "outputs": [],
   "source": [
    "import pandas as pd\n",
    "import numpy as np\n",
    "import matplotlib.pyplot as plt \n",
    "import seaborn as sns"
   ]
  },
  {
   "cell_type": "markdown",
   "metadata": {},
   "source": [
    "The data was downloaded from the [UCI Machine Learning Repository](https://archive.ics.uci.edu/ml/datasets/Heart+Disease) and then cleaned for analysis. The principal investigators responsible for data collection were:\n",
    "\n",
    "1. Hungarian Institute of Cardiology. Budapest: Andras Janosi, M.D.\n",
    "2. University Hospital, Zurich, Switzerland: William Steinbrunn, M.D.\n",
    "3. University Hospital, Basel, Switzerland: Matthias Pfisterer, M.D.\n",
    "4. V.A. Medical Center, Long Beach and Cleveland Clinic Foundation: Robert Detrano, M.D., Ph.D."
   ]
  },
  {
   "cell_type": "markdown",
   "metadata": {},
   "source": [
    "- age: age in years\n",
    "- sex: 1=male, 0=female\n",
    "- cp: chest pain type\n",
    " - Value 1: typical angina\n",
    " - Value 2: atypical angina\n",
    " - Value 3: non-anginal pain\n",
    " - Value 4: asymptomatic\n",
    "- trestbps: resting blood pressure (in mm Hg on admission to the hospital)\n",
    "- chol: serum cholestoral in mg/dl\n",
    "- fbs: (fasting blood sugar > 120 mg/dl) (1 = true; 0 = false)\n",
    "- restecg: resting electrocardiographic results\n",
    " - Value 0: normal\n",
    " - Value 1: having ST-T wave abnormality (T wave inversions and/or ST elevation or depression of > 0.05 mV) \n",
    " - Value 2: showing probable or definite left ventricular hypertrophy by Estes' criteria\n",
    "- thalach: maximum heart rate achieved in an exercise test\n",
    "- exang: exercise induced angina (1 = yes; 0 = no)\n",
    "- oldpeak: ST depression induced by exercise relative to rest\n",
    "- slope: the slope of the peak exercise ST segment\n",
    " - Value 1: upsloping\n",
    " - Value 2: flat\n",
    " - Value 3: downsloping\n",
    "- ca: number of major vessels (0-3) colored by flourosopy\n",
    "- thal: \n",
    " - Value 3: normal\n",
    " - Value 6: fixed defect\n",
    " - Value 7: reversable defect\n",
    "- heart_disease: diagnosis of heart disease (angiographic disease status)\n",
    " - Value 0: < 50% diameter narrowing\n",
    " - Value 1: > 50% diameter narrowing\n",
    "\"\\[This field\\] refers to the presence of heart disease in the patient. It is integer valued from 0 (no presence) to 4. Experiments with the Cleveland database have concentrated on simply attempting to distinguish presence (values 1,2,3,4) from absence (value 0).\""
   ]
  },
  {
   "cell_type": "code",
   "execution_count": 2,
   "metadata": {},
   "outputs": [
    {
     "data": {
      "text/html": [
       "<div>\n",
       "<style scoped>\n",
       "    .dataframe tbody tr th:only-of-type {\n",
       "        vertical-align: middle;\n",
       "    }\n",
       "\n",
       "    .dataframe tbody tr th {\n",
       "        vertical-align: top;\n",
       "    }\n",
       "\n",
       "    .dataframe thead th {\n",
       "        text-align: right;\n",
       "    }\n",
       "</style>\n",
       "<table border=\"1\" class=\"dataframe\">\n",
       "  <thead>\n",
       "    <tr style=\"text-align: right;\">\n",
       "      <th></th>\n",
       "      <th>age</th>\n",
       "      <th>sex</th>\n",
       "      <th>trestbps</th>\n",
       "      <th>chol</th>\n",
       "      <th>cp</th>\n",
       "      <th>exang</th>\n",
       "      <th>fbs</th>\n",
       "      <th>thalach</th>\n",
       "      <th>heart_disease</th>\n",
       "    </tr>\n",
       "  </thead>\n",
       "  <tbody>\n",
       "    <tr>\n",
       "      <th>0</th>\n",
       "      <td>63.0</td>\n",
       "      <td>male</td>\n",
       "      <td>145.0</td>\n",
       "      <td>233.0</td>\n",
       "      <td>typical angina</td>\n",
       "      <td>0.0</td>\n",
       "      <td>1.0</td>\n",
       "      <td>150.0</td>\n",
       "      <td>absence</td>\n",
       "    </tr>\n",
       "    <tr>\n",
       "      <th>1</th>\n",
       "      <td>67.0</td>\n",
       "      <td>male</td>\n",
       "      <td>160.0</td>\n",
       "      <td>286.0</td>\n",
       "      <td>asymptomatic</td>\n",
       "      <td>1.0</td>\n",
       "      <td>0.0</td>\n",
       "      <td>108.0</td>\n",
       "      <td>presence</td>\n",
       "    </tr>\n",
       "    <tr>\n",
       "      <th>2</th>\n",
       "      <td>67.0</td>\n",
       "      <td>male</td>\n",
       "      <td>120.0</td>\n",
       "      <td>229.0</td>\n",
       "      <td>asymptomatic</td>\n",
       "      <td>1.0</td>\n",
       "      <td>0.0</td>\n",
       "      <td>129.0</td>\n",
       "      <td>presence</td>\n",
       "    </tr>\n",
       "    <tr>\n",
       "      <th>3</th>\n",
       "      <td>37.0</td>\n",
       "      <td>male</td>\n",
       "      <td>130.0</td>\n",
       "      <td>250.0</td>\n",
       "      <td>non-anginal pain</td>\n",
       "      <td>0.0</td>\n",
       "      <td>0.0</td>\n",
       "      <td>187.0</td>\n",
       "      <td>absence</td>\n",
       "    </tr>\n",
       "    <tr>\n",
       "      <th>4</th>\n",
       "      <td>41.0</td>\n",
       "      <td>female</td>\n",
       "      <td>130.0</td>\n",
       "      <td>204.0</td>\n",
       "      <td>atypical angina</td>\n",
       "      <td>0.0</td>\n",
       "      <td>0.0</td>\n",
       "      <td>172.0</td>\n",
       "      <td>absence</td>\n",
       "    </tr>\n",
       "  </tbody>\n",
       "</table>\n",
       "</div>"
      ],
      "text/plain": [
       "    age     sex  trestbps   chol                cp  exang  fbs  thalach  \\\n",
       "0  63.0    male     145.0  233.0    typical angina    0.0  1.0    150.0   \n",
       "1  67.0    male     160.0  286.0      asymptomatic    1.0  0.0    108.0   \n",
       "2  67.0    male     120.0  229.0      asymptomatic    1.0  0.0    129.0   \n",
       "3  37.0    male     130.0  250.0  non-anginal pain    0.0  0.0    187.0   \n",
       "4  41.0  female     130.0  204.0   atypical angina    0.0  0.0    172.0   \n",
       "\n",
       "  heart_disease  \n",
       "0       absence  \n",
       "1      presence  \n",
       "2      presence  \n",
       "3       absence  \n",
       "4       absence  "
      ]
     },
     "execution_count": 2,
     "metadata": {},
     "output_type": "execute_result"
    }
   ],
   "source": [
    "heart = pd.read_csv('heart_disease.csv')\n",
    "heart.head()"
   ]
  },
  {
   "cell_type": "markdown",
   "metadata": {},
   "source": [
    "## Two-sample t-test for trestbps"
   ]
  },
  {
   "cell_type": "code",
   "execution_count": 3,
   "metadata": {},
   "outputs": [
    {
     "data": {
      "text/html": [
       "<div>\n",
       "<style scoped>\n",
       "    .dataframe tbody tr th:only-of-type {\n",
       "        vertical-align: middle;\n",
       "    }\n",
       "\n",
       "    .dataframe tbody tr th {\n",
       "        vertical-align: top;\n",
       "    }\n",
       "\n",
       "    .dataframe thead th {\n",
       "        text-align: right;\n",
       "    }\n",
       "</style>\n",
       "<table border=\"1\" class=\"dataframe\">\n",
       "  <thead>\n",
       "    <tr style=\"text-align: right;\">\n",
       "      <th></th>\n",
       "      <th>age</th>\n",
       "      <th>trestbps</th>\n",
       "      <th>chol</th>\n",
       "      <th>exang</th>\n",
       "      <th>fbs</th>\n",
       "      <th>thalach</th>\n",
       "    </tr>\n",
       "    <tr>\n",
       "      <th>heart_disease</th>\n",
       "      <th></th>\n",
       "      <th></th>\n",
       "      <th></th>\n",
       "      <th></th>\n",
       "      <th></th>\n",
       "      <th></th>\n",
       "    </tr>\n",
       "  </thead>\n",
       "  <tbody>\n",
       "    <tr>\n",
       "      <th>absence</th>\n",
       "      <td>52.585366</td>\n",
       "      <td>129.250000</td>\n",
       "      <td>242.640244</td>\n",
       "      <td>0.140244</td>\n",
       "      <td>0.140244</td>\n",
       "      <td>158.378049</td>\n",
       "    </tr>\n",
       "    <tr>\n",
       "      <th>presence</th>\n",
       "      <td>56.625899</td>\n",
       "      <td>134.568345</td>\n",
       "      <td>251.474820</td>\n",
       "      <td>0.546763</td>\n",
       "      <td>0.158273</td>\n",
       "      <td>139.258993</td>\n",
       "    </tr>\n",
       "  </tbody>\n",
       "</table>\n",
       "</div>"
      ],
      "text/plain": [
       "                     age    trestbps        chol     exang       fbs  \\\n",
       "heart_disease                                                          \n",
       "absence        52.585366  129.250000  242.640244  0.140244  0.140244   \n",
       "presence       56.625899  134.568345  251.474820  0.546763  0.158273   \n",
       "\n",
       "                  thalach  \n",
       "heart_disease              \n",
       "absence        158.378049  \n",
       "presence       139.258993  "
      ]
     },
     "execution_count": 3,
     "metadata": {},
     "output_type": "execute_result"
    }
   ],
   "source": [
    "heart.groupby('heart_disease').mean()"
   ]
  },
  {
   "cell_type": "code",
   "execution_count": 5,
   "metadata": {},
   "outputs": [
    {
     "data": {
      "text/plain": [
       "<AxesSubplot:xlabel='heart_disease', ylabel='trestbps'>"
      ]
     },
     "execution_count": 5,
     "metadata": {},
     "output_type": "execute_result"
    },
    {
     "data": {
      "image/png": "[encoded data removed]",
      "text/plain": [
       "<Figure size 640x480 with 1 Axes>"
      ]
     },
     "metadata": {},
     "output_type": "display_data"
    }
   ],
   "source": [
    "sns.boxplot(x=heart.heart_disease, y = heart.trestbps) # resting blood pressure (in mm Hg on admission to the hospital)"
   ]
  },
  {
   "cell_type": "markdown",
   "metadata": {},
   "source": [
    "Null: There is no difference in mean resting blood pressure for patients with and without heart disease\n",
    "\n",
    "Alternative: There is difference in mean resting blood pressure for patients with and without heart disease"
   ]
  },
  {
   "cell_type": "code",
   "execution_count": 30,
   "metadata": {},
   "outputs": [
    {
     "name": "stdout",
     "output_type": "stream",
     "text": [
      "0.008548268928594928\n"
     ]
    }
   ],
   "source": [
    "# two-sample t-test\n",
    "\n",
    "from scipy.stats import ttest_ind\n",
    "tstat, pval = ttest_ind(trestbps_hd, trestbps_no_hd) # compare people with and without heart disease\n",
    "print(pval)"
   ]
  },
  {
   "cell_type": "markdown",
   "metadata": {},
   "source": [
    "Conclusion: we should reject Null. There seems to be a difference in mean resting blood pressure for patients with and without heart disease"
   ]
  },
  {
   "cell_type": "markdown",
   "metadata": {},
   "source": [
    "# two-sample t-test for talach"
   ]
  },
  {
   "cell_type": "markdown",
   "metadata": {},
   "source": [
    "thalach: maximum heart rate achieved in an exercise test\n",
    "    \n",
    "Null: There is no difference in mean maximum heart rate achievede for patients with and without heart disease\n",
    "\n",
    "Alternative: There is difference in mean maximum heart rate achieved for patients with and without heart disease"
   ]
  },
  {
   "cell_type": "code",
   "execution_count": 32,
   "metadata": {},
   "outputs": [
    {
     "data": {
      "text/plain": [
       "<AxesSubplot:xlabel='heart_disease', ylabel='thalach'>"
      ]
     },
     "execution_count": 32,
     "metadata": {},
     "output_type": "execute_result"
    },
    {
     "data": {
      "image/png": "[encoded data removed]",
      "text/plain": [
       "<Figure size 640x480 with 1 Axes>"
      ]
     },
     "metadata": {},
     "output_type": "display_data"
    }
   ],
   "source": [
    "sns.boxplot(x=heart.heart_disease, y = heart.thalach) # maximum heart rate achieved in an exercise test"
   ]
  },
  {
   "cell_type": "code",
   "execution_count": 47,
   "metadata": {},
   "outputs": [
    {
     "name": "stdout",
     "output_type": "stream",
     "text": [
      "3.456964908430172e-14\n"
     ]
    }
   ],
   "source": [
    "# two-sample t-test\n",
    "thalach_hd = heart.thalach[heart.heart_disease == 'presence']\n",
    "thalach_no_hd = heart.thalach[heart.heart_disease == 'absence']\n",
    "from scipy.stats import ttest_ind\n",
    "tstat, pval = ttest_ind(thalach_hd, thalach_no_hd) # compare people with and without heart disease\n",
    "print(pval)"
   ]
  },
  {
   "cell_type": "markdown",
   "metadata": {},
   "source": [
    "Conclusion: p-value confirms what we see -- there is a difference, Null should be rejected."
   ]
  },
  {
   "cell_type": "markdown",
   "metadata": {},
   "source": [
    "# two-sample t-test for age"
   ]
  },
  {
   "cell_type": "code",
   "execution_count": 48,
   "metadata": {},
   "outputs": [
    {
     "data": {
      "image/png": "[encoded data removed]",
      "text/plain": [
       "<Figure size 640x480 with 1 Axes>"
      ]
     },
     "metadata": {},
     "output_type": "display_data"
    }
   ],
   "source": [
    "sns.boxplot(x=heart.heart_disease, y=heart.age)\n",
    "plt.show()"
   ]
  },
  {
   "cell_type": "markdown",
   "metadata": {},
   "source": [
    "Null: age doesn't influence the presense of a disease\n",
    "    \n",
    "Alternative: there is an association between the age an dthe presence of a disease"
   ]
  },
  {
   "cell_type": "code",
   "execution_count": 50,
   "metadata": {},
   "outputs": [
    {
     "name": "stdout",
     "output_type": "stream",
     "text": [
      "8.955636917529706e-05\n"
     ]
    }
   ],
   "source": [
    "age_hd = heart.age[heart.heart_disease == 'presence']\n",
    "age_no_hd = heart.age[heart.heart_disease == 'absence']\n",
    "\n",
    "tstat, pval = ttest_ind(age_hd, age_no_hd)\n",
    "print(pval)"
   ]
  },
  {
   "cell_type": "markdown",
   "metadata": {},
   "source": [
    "Conclusion: we should reject Null, there is an association between age and the presence of the disease"
   ]
  },
  {
   "cell_type": "markdown",
   "metadata": {},
   "source": [
    "# two-sample t-test for chol\n",
    "\n",
    "Null: there is no association between cholesterol level and the presence of a disease\n",
    "    \n",
    "Alternative: there is an association cholesterol level and the presence of a disease"
   ]
  },
  {
   "cell_type": "code",
   "execution_count": 52,
   "metadata": {},
   "outputs": [
    {
     "data": {
      "image/png": "[encoded data removed]",
      "text/plain": [
       "<Figure size 640x480 with 1 Axes>"
      ]
     },
     "metadata": {},
     "output_type": "display_data"
    }
   ],
   "source": [
    "sns.boxplot(x=heart.heart_disease, y=heart.chol)\n",
    "plt.show()"
   ]
  },
  {
   "cell_type": "code",
   "execution_count": 53,
   "metadata": {},
   "outputs": [
    {
     "name": "stdout",
     "output_type": "stream",
     "text": [
      "0.13914167020436527\n"
     ]
    }
   ],
   "source": [
    "chol_hd = heart.chol[heart.heart_disease == 'presence']\n",
    "chol_no_hd = heart.chol[heart.heart_disease == 'absence']\n",
    "tstat, pval = ttest_ind(chol_hd, chol_no_hd)\n",
    "print(pval)"
   ]
  },
  {
   "cell_type": "markdown",
   "metadata": {},
   "source": [
    "Conclusion: we fail to reject Null,the difference in cholesterol level in people with and without a disease isn't statistically significant."
   ]
  },
  {
   "cell_type": "markdown",
   "metadata": {},
   "source": [
    "# ANOVA test for cp and thalach"
   ]
  },
  {
   "cell_type": "markdown",
   "metadata": {},
   "source": [
    "cp: chest pain type\n",
    "Value 1: typical angina\n",
    "Value 2: atypical angina\n",
    "Value 3: non-anginal pain\n",
    "Value 4: asymptomatic\n",
    "    \n",
    "thalach: maximum heart rate achieved in an exercise test"
   ]
  },
  {
   "cell_type": "markdown",
   "metadata": {},
   "source": [
    "Null: there is no association between chest pain type and maximum heart rate achieved in an exercise test\n",
    "    \n",
    "Alternative: there is association between chest pain type and maximum heart rate achieved in an exercise test"
   ]
  },
  {
   "cell_type": "code",
   "execution_count": 6,
   "metadata": {},
   "outputs": [
    {
     "data": {
      "image/png": "[encoded data removed]",
      "text/plain": [
       "<Figure size 640x480 with 1 Axes>"
      ]
     },
     "metadata": {},
     "output_type": "display_data"
    }
   ],
   "source": [
    "sns.boxplot(x=heart.cp, y=heart.thalach) \n",
    "plt.show()"
   ]
  },
  {
   "cell_type": "code",
   "execution_count": 4,
   "metadata": {},
   "outputs": [
    {
     "name": "stdout",
     "output_type": "stream",
     "text": [
      "1.9065505247705008e-10\n"
     ]
    }
   ],
   "source": [
    "from scipy.stats import f_oneway\n",
    "\n",
    "\n",
    "typ_angina = heart.thalach[heart.cp == 'typical angina']\n",
    "atyp_angina = heart.thalach[heart.cp == 'atypical angina']\n",
    "non_angina = heart.thalach[heart.cp == 'non-anginal pain']\n",
    "asymp_angina = heart.thalach[heart.cp == 'asymptomatic']\n",
    "\n",
    "fstat, pval = f_oneway(typ_angina, atyp_angina, non_angina, asymp_angina)\n",
    "print(pval)"
   ]
  },
  {
   "cell_type": "code",
   "execution_count": 3,
   "metadata": {},
   "outputs": [
    {
     "data": {
      "text/html": [
       "<div>\n",
       "<style scoped>\n",
       "    .dataframe tbody tr th:only-of-type {\n",
       "        vertical-align: middle;\n",
       "    }\n",
       "\n",
       "    .dataframe tbody tr th {\n",
       "        vertical-align: top;\n",
       "    }\n",
       "\n",
       "    .dataframe thead th {\n",
       "        text-align: right;\n",
       "    }\n",
       "</style>\n",
       "<table border=\"1\" class=\"dataframe\">\n",
       "  <thead>\n",
       "    <tr style=\"text-align: right;\">\n",
       "      <th></th>\n",
       "      <th>age</th>\n",
       "      <th>sex</th>\n",
       "      <th>trestbps</th>\n",
       "      <th>chol</th>\n",
       "      <th>cp</th>\n",
       "      <th>exang</th>\n",
       "      <th>fbs</th>\n",
       "      <th>thalach</th>\n",
       "      <th>heart_disease</th>\n",
       "    </tr>\n",
       "  </thead>\n",
       "  <tbody>\n",
       "    <tr>\n",
       "      <th>0</th>\n",
       "      <td>63.0</td>\n",
       "      <td>male</td>\n",
       "      <td>145.0</td>\n",
       "      <td>233.0</td>\n",
       "      <td>typical angina</td>\n",
       "      <td>0.0</td>\n",
       "      <td>1.0</td>\n",
       "      <td>150.0</td>\n",
       "      <td>absence</td>\n",
       "    </tr>\n",
       "    <tr>\n",
       "      <th>1</th>\n",
       "      <td>67.0</td>\n",
       "      <td>male</td>\n",
       "      <td>160.0</td>\n",
       "      <td>286.0</td>\n",
       "      <td>asymptomatic</td>\n",
       "      <td>1.0</td>\n",
       "      <td>0.0</td>\n",
       "      <td>108.0</td>\n",
       "      <td>presence</td>\n",
       "    </tr>\n",
       "    <tr>\n",
       "      <th>2</th>\n",
       "      <td>67.0</td>\n",
       "      <td>male</td>\n",
       "      <td>120.0</td>\n",
       "      <td>229.0</td>\n",
       "      <td>asymptomatic</td>\n",
       "      <td>1.0</td>\n",
       "      <td>0.0</td>\n",
       "      <td>129.0</td>\n",
       "      <td>presence</td>\n",
       "    </tr>\n",
       "    <tr>\n",
       "      <th>3</th>\n",
       "      <td>37.0</td>\n",
       "      <td>male</td>\n",
       "      <td>130.0</td>\n",
       "      <td>250.0</td>\n",
       "      <td>non-anginal pain</td>\n",
       "      <td>0.0</td>\n",
       "      <td>0.0</td>\n",
       "      <td>187.0</td>\n",
       "      <td>absence</td>\n",
       "    </tr>\n",
       "    <tr>\n",
       "      <th>4</th>\n",
       "      <td>41.0</td>\n",
       "      <td>female</td>\n",
       "      <td>130.0</td>\n",
       "      <td>204.0</td>\n",
       "      <td>atypical angina</td>\n",
       "      <td>0.0</td>\n",
       "      <td>0.0</td>\n",
       "      <td>172.0</td>\n",
       "      <td>absence</td>\n",
       "    </tr>\n",
       "  </tbody>\n",
       "</table>\n",
       "</div>"
      ],
      "text/plain": [
       "    age     sex  trestbps   chol                cp  exang  fbs  thalach  \\\n",
       "0  63.0    male     145.0  233.0    typical angina    0.0  1.0    150.0   \n",
       "1  67.0    male     160.0  286.0      asymptomatic    1.0  0.0    108.0   \n",
       "2  67.0    male     120.0  229.0      asymptomatic    1.0  0.0    129.0   \n",
       "3  37.0    male     130.0  250.0  non-anginal pain    0.0  0.0    187.0   \n",
       "4  41.0  female     130.0  204.0   atypical angina    0.0  0.0    172.0   \n",
       "\n",
       "  heart_disease  \n",
       "0       absence  \n",
       "1      presence  \n",
       "2      presence  \n",
       "3       absence  \n",
       "4       absence  "
      ]
     },
     "execution_count": 3,
     "metadata": {},
     "output_type": "execute_result"
    }
   ],
   "source": [
    "heart = pd.read_csv('heart_disease.csv')\n",
    "heart.head()"
   ]
  },
  {
   "cell_type": "markdown",
   "metadata": {},
   "source": [
    "Conclusion: we should reject Null, and explore further with Tukey's test."
   ]
  },
  {
   "cell_type": "markdown",
   "metadata": {},
   "source": [
    "## Tukey test for cp and thalach"
   ]
  },
  {
   "cell_type": "code",
   "execution_count": 9,
   "metadata": {},
   "outputs": [
    {
     "name": "stdout",
     "output_type": "stream",
     "text": [
      "           Multiple Comparison of Means - Tukey HSD, FWER=0.05           \n",
      "=========================================================================\n",
      "     group1           group2      meandiff p-adj   lower    upper  reject\n",
      "-------------------------------------------------------------------------\n",
      "    asymptomatic  atypical angina  21.7394    0.0  12.7442 30.7347   True\n",
      "    asymptomatic non-anginal pain  14.7264    0.0   7.2583 22.1945   True\n",
      "    asymptomatic   typical angina   15.276 0.0081   2.9707 27.5812   True\n",
      " atypical angina non-anginal pain   -7.013 0.2481 -16.7587  2.7327  False\n",
      " atypical angina   typical angina  -6.4635 0.6213 -20.2702  7.3432  False\n",
      "non-anginal pain   typical angina   0.5495 0.9995 -12.3145 13.4136  False\n",
      "-------------------------------------------------------------------------\n"
     ]
    }
   ],
   "source": [
    "from statsmodels.stats.multicomp import pairwise_tukeyhsd\n",
    "# put quant. var. first\n",
    "\n",
    "tukey_results = pairwise_tukeyhsd(heart.thalach, heart.cp, 0.05) # 0.05 is significance level\n",
    "print(tukey_results)"
   ]
  },
  {
   "cell_type": "markdown",
   "metadata": {},
   "source": [
    "Conclusion: there is significant difference between asymptomatic group and any other group."
   ]
  },
  {
   "cell_type": "markdown",
   "metadata": {},
   "source": [
    "## Chi-Square Test for thalach and cp"
   ]
  },
  {
   "cell_type": "code",
   "execution_count": 14,
   "metadata": {},
   "outputs": [
    {
     "name": "stdout",
     "output_type": "stream",
     "text": [
      "heart_disease     absence  presence\n",
      "cp                                 \n",
      "asymptomatic           39       105\n",
      "atypical angina        41         9\n",
      "non-anginal pain       68        18\n",
      "typical angina         16         7\n"
     ]
    }
   ],
   "source": [
    "Xtab = pd.crosstab(heart.cp, heart.heart_disease)\n",
    "print(Xtab)"
   ]
  },
  {
   "cell_type": "markdown",
   "metadata": {},
   "source": [
    "cp: chest pain type Value 1: typical angina Value 2: atypical angina Value 3: non-anginal pain Value 4: asymptomatic\n",
    "\n",
    "\n",
    "Null: there is no association between chest pain type and presence of the disease\n",
    "\n",
    "Alternative: there is association between chest pain type and presence of the disease"
   ]
  },
  {
   "cell_type": "code",
   "execution_count": 15,
   "metadata": {},
   "outputs": [
    {
     "name": "stdout",
     "output_type": "stream",
     "text": [
      "1.2517106007837527e-17\n"
     ]
    }
   ],
   "source": [
    "from scipy.stats import chi2_contingency\n",
    "\n",
    "chi2, pval, dof, expected = chi2_contingency(Xtab)\n",
    "print(pval)"
   ]
  },
  {
   "cell_type": "markdown",
   "metadata": {},
   "source": [
    "Conclusion: we should reject Null value and conclude that there is association between chest pain type and presence of the disease"
   ]
  },
  {
   "cell_type": "markdown",
   "metadata": {},
   "source": [
    "## Chi-Square Test for sex and heart_disease"
   ]
  },
  {
   "cell_type": "code",
   "execution_count": 19,
   "metadata": {},
   "outputs": [
    {
     "data": {
      "text/html": [
       "<div>\n",
       "<style scoped>\n",
       "    .dataframe tbody tr th:only-of-type {\n",
       "        vertical-align: middle;\n",
       "    }\n",
       "\n",
       "    .dataframe tbody tr th {\n",
       "        vertical-align: top;\n",
       "    }\n",
       "\n",
       "    .dataframe thead th {\n",
       "        text-align: right;\n",
       "    }\n",
       "</style>\n",
       "<table border=\"1\" class=\"dataframe\">\n",
       "  <thead>\n",
       "    <tr style=\"text-align: right;\">\n",
       "      <th>heart_disease</th>\n",
       "      <th>absence</th>\n",
       "      <th>presence</th>\n",
       "    </tr>\n",
       "    <tr>\n",
       "      <th>sex</th>\n",
       "      <th></th>\n",
       "      <th></th>\n",
       "    </tr>\n",
       "  </thead>\n",
       "  <tbody>\n",
       "    <tr>\n",
       "      <th>female</th>\n",
       "      <td>72</td>\n",
       "      <td>25</td>\n",
       "    </tr>\n",
       "    <tr>\n",
       "      <th>male</th>\n",
       "      <td>92</td>\n",
       "      <td>114</td>\n",
       "    </tr>\n",
       "  </tbody>\n",
       "</table>\n",
       "</div>"
      ],
      "text/plain": [
       "heart_disease  absence  presence\n",
       "sex                             \n",
       "female              72        25\n",
       "male                92       114"
      ]
     },
     "execution_count": 19,
     "metadata": {},
     "output_type": "execute_result"
    }
   ],
   "source": [
    "X_tab = pd.crosstab(heart.sex, heart.heart_disease)\n",
    "X_tab"
   ]
  },
  {
   "cell_type": "markdown",
   "metadata": {},
   "source": [
    "Null: there is no association between sex and presence of the disease\n",
    "\n",
    "Alternative: there is association between sex and presence of the disease"
   ]
  },
  {
   "cell_type": "code",
   "execution_count": 20,
   "metadata": {},
   "outputs": [
    {
     "name": "stdout",
     "output_type": "stream",
     "text": [
      "2.666712348180942e-06\n"
     ]
    }
   ],
   "source": [
    "chi2, pval, ddof, expected = chi2_contingency(X_tab)\n",
    "print(pval)"
   ]
  },
  {
   "cell_type": "markdown",
   "metadata": {},
   "source": [
    "Conclusion: we should reject Null; there is association between sex and the presense of the desease."
   ]
  },
  {
   "cell_type": "code",
   "execution_count": null,
   "metadata": {},
   "outputs": [],
   "source": []
  }
 ],
 "metadata": {
  "kernelspec": {
   "display_name": "Python 3 (ipykernel)",
   "language": "python",
   "name": "python3"
  },
  "language_info": {
   "codemirror_mode": {
    "name": "ipython",
    "version": 3
   },
   "file_extension": ".py",
   "mimetype": "text/x-python",
   "name": "python",
   "nbconvert_exporter": "python",
   "pygments_lexer": "ipython3",
   "version": "3.9.13"
  }
 },
 "nbformat": 4,
 "nbformat_minor": 4
}
