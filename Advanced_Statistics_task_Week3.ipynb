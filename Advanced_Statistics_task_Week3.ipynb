{
 "cells": [
  {
   "cell_type": "code",
   "execution_count": 65,
   "id": "ac1cc800",
   "metadata": {},
   "outputs": [],
   "source": [
    "from __future__ import division\n",
    "import numpy as np\n",
    "import pandas as pd\n",
    "from scipy import stats\n",
    "import scipy.stats as sps\n",
    "from statsmodels.stats import weightstats as wsm\n",
    "from statsmodels.stats.proportion import proportion_confint\n",
    "%matplotlib inline\n",
    "import matplotlib.pyplot as plt\n",
    "import seaborn as sns\n",
    "from IPython.core.interactiveshell import InteractiveShell\n",
    "InteractiveShell.ast_node_interactivity = \"all\""
   ]
  },
  {
   "cell_type": "code",
   "execution_count": 3,
   "id": "d727edef",
   "metadata": {},
   "outputs": [
    {
     "data": {
      "text/html": [
       "<div>\n",
       "<style scoped>\n",
       "    .dataframe tbody tr th:only-of-type {\n",
       "        vertical-align: middle;\n",
       "    }\n",
       "\n",
       "    .dataframe tbody tr th {\n",
       "        vertical-align: top;\n",
       "    }\n",
       "\n",
       "    .dataframe thead th {\n",
       "        text-align: right;\n",
       "    }\n",
       "</style>\n",
       "<table border=\"1\" class=\"dataframe\">\n",
       "  <thead>\n",
       "    <tr style=\"text-align: right;\">\n",
       "      <th></th>\n",
       "      <th>ID</th>\n",
       "      <th>LIMIT_BAL</th>\n",
       "      <th>GENDER</th>\n",
       "      <th>EDUCATION</th>\n",
       "      <th>MARITAL</th>\n",
       "      <th>AGE</th>\n",
       "      <th>PAY_SEP</th>\n",
       "      <th>PAY_AUG</th>\n",
       "      <th>PAY_JUL</th>\n",
       "      <th>PAY_JUN</th>\n",
       "      <th>...</th>\n",
       "      <th>BILL_JUN</th>\n",
       "      <th>BILL_MAY</th>\n",
       "      <th>BILL_APR</th>\n",
       "      <th>PAY_SEP.1</th>\n",
       "      <th>PAY_AUG.1</th>\n",
       "      <th>PAY_JUL.1</th>\n",
       "      <th>PAY_JUN.1</th>\n",
       "      <th>PAY_MAY.1</th>\n",
       "      <th>PAY_APR.1</th>\n",
       "      <th>default</th>\n",
       "    </tr>\n",
       "  </thead>\n",
       "  <tbody>\n",
       "    <tr>\n",
       "      <th>0</th>\n",
       "      <td>1</td>\n",
       "      <td>20000</td>\n",
       "      <td>2</td>\n",
       "      <td>2</td>\n",
       "      <td>1</td>\n",
       "      <td>24</td>\n",
       "      <td>2</td>\n",
       "      <td>2</td>\n",
       "      <td>0</td>\n",
       "      <td>0</td>\n",
       "      <td>...</td>\n",
       "      <td>0</td>\n",
       "      <td>0</td>\n",
       "      <td>0</td>\n",
       "      <td>0</td>\n",
       "      <td>689</td>\n",
       "      <td>0</td>\n",
       "      <td>0</td>\n",
       "      <td>0</td>\n",
       "      <td>0</td>\n",
       "      <td>1</td>\n",
       "    </tr>\n",
       "    <tr>\n",
       "      <th>1</th>\n",
       "      <td>2</td>\n",
       "      <td>120000</td>\n",
       "      <td>2</td>\n",
       "      <td>2</td>\n",
       "      <td>2</td>\n",
       "      <td>26</td>\n",
       "      <td>0</td>\n",
       "      <td>2</td>\n",
       "      <td>0</td>\n",
       "      <td>0</td>\n",
       "      <td>...</td>\n",
       "      <td>3272</td>\n",
       "      <td>3455</td>\n",
       "      <td>3261</td>\n",
       "      <td>0</td>\n",
       "      <td>1000</td>\n",
       "      <td>1000</td>\n",
       "      <td>1000</td>\n",
       "      <td>0</td>\n",
       "      <td>2000</td>\n",
       "      <td>1</td>\n",
       "    </tr>\n",
       "    <tr>\n",
       "      <th>2</th>\n",
       "      <td>3</td>\n",
       "      <td>90000</td>\n",
       "      <td>2</td>\n",
       "      <td>2</td>\n",
       "      <td>2</td>\n",
       "      <td>34</td>\n",
       "      <td>0</td>\n",
       "      <td>0</td>\n",
       "      <td>0</td>\n",
       "      <td>0</td>\n",
       "      <td>...</td>\n",
       "      <td>14331</td>\n",
       "      <td>14948</td>\n",
       "      <td>15549</td>\n",
       "      <td>1518</td>\n",
       "      <td>1500</td>\n",
       "      <td>1000</td>\n",
       "      <td>1000</td>\n",
       "      <td>1000</td>\n",
       "      <td>5000</td>\n",
       "      <td>0</td>\n",
       "    </tr>\n",
       "    <tr>\n",
       "      <th>3</th>\n",
       "      <td>4</td>\n",
       "      <td>50000</td>\n",
       "      <td>2</td>\n",
       "      <td>2</td>\n",
       "      <td>1</td>\n",
       "      <td>37</td>\n",
       "      <td>0</td>\n",
       "      <td>0</td>\n",
       "      <td>0</td>\n",
       "      <td>0</td>\n",
       "      <td>...</td>\n",
       "      <td>28314</td>\n",
       "      <td>28959</td>\n",
       "      <td>29547</td>\n",
       "      <td>2000</td>\n",
       "      <td>2019</td>\n",
       "      <td>1200</td>\n",
       "      <td>1100</td>\n",
       "      <td>1069</td>\n",
       "      <td>1000</td>\n",
       "      <td>0</td>\n",
       "    </tr>\n",
       "    <tr>\n",
       "      <th>4</th>\n",
       "      <td>5</td>\n",
       "      <td>50000</td>\n",
       "      <td>1</td>\n",
       "      <td>2</td>\n",
       "      <td>1</td>\n",
       "      <td>57</td>\n",
       "      <td>0</td>\n",
       "      <td>0</td>\n",
       "      <td>0</td>\n",
       "      <td>0</td>\n",
       "      <td>...</td>\n",
       "      <td>20940</td>\n",
       "      <td>19146</td>\n",
       "      <td>19131</td>\n",
       "      <td>2000</td>\n",
       "      <td>36681</td>\n",
       "      <td>10000</td>\n",
       "      <td>9000</td>\n",
       "      <td>689</td>\n",
       "      <td>679</td>\n",
       "      <td>0</td>\n",
       "    </tr>\n",
       "  </tbody>\n",
       "</table>\n",
       "<p>5 rows × 25 columns</p>\n",
       "</div>"
      ],
      "text/plain": [
       "   ID  LIMIT_BAL  GENDER  EDUCATION  MARITAL  AGE  PAY_SEP  PAY_AUG  PAY_JUL  \\\n",
       "0   1      20000       2          2        1   24        2        2        0   \n",
       "1   2     120000       2          2        2   26        0        2        0   \n",
       "2   3      90000       2          2        2   34        0        0        0   \n",
       "3   4      50000       2          2        1   37        0        0        0   \n",
       "4   5      50000       1          2        1   57        0        0        0   \n",
       "\n",
       "   PAY_JUN  ...  BILL_JUN  BILL_MAY  BILL_APR  PAY_SEP.1  PAY_AUG.1  \\\n",
       "0        0  ...         0         0         0          0        689   \n",
       "1        0  ...      3272      3455      3261          0       1000   \n",
       "2        0  ...     14331     14948     15549       1518       1500   \n",
       "3        0  ...     28314     28959     29547       2000       2019   \n",
       "4        0  ...     20940     19146     19131       2000      36681   \n",
       "\n",
       "   PAY_JUL.1  PAY_JUN.1  PAY_MAY.1  PAY_APR.1  default  \n",
       "0          0          0          0          0        1  \n",
       "1       1000       1000          0       2000        1  \n",
       "2       1000       1000       1000       5000        0  \n",
       "3       1200       1100       1069       1000        0  \n",
       "4      10000       9000        689        679        0  \n",
       "\n",
       "[5 rows x 25 columns]"
      ]
     },
     "execution_count": 3,
     "metadata": {},
     "output_type": "execute_result"
    }
   ],
   "source": [
    "credit_story = pd.read_csv('credit_card_default_analysis.csv')\n",
    "credit_story.head()"
   ]
  },
  {
   "cell_type": "markdown",
   "id": "6cc2ecd2",
   "metadata": {},
   "source": [
    "## 1. Credit limit: test whether there are differences between median credit limits of two groups."
   ]
  },
  {
   "cell_type": "code",
   "execution_count": 71,
   "id": "e7bdadfb",
   "metadata": {},
   "outputs": [
    {
     "data": {
      "image/png": "[encoded data removed]",
      "text/plain": [
       "<Figure size 432x288 with 1 Axes>"
      ]
     },
     "metadata": {
      "needs_background": "light"
     },
     "output_type": "display_data"
    }
   ],
   "source": [
    "plt.plot(125);\n",
    "plt.title('LIMIT_BALL distribution');\n",
    "plt.hist(credit_story['LIMIT_BAL'], color = 'gray');"
   ]
  },
  {
   "cell_type": "code",
   "execution_count": 16,
   "id": "af704141",
   "metadata": {},
   "outputs": [
    {
     "data": {
      "image/png": "[encoded data removed]",
      "text/plain": [
       "<Figure size 432x288 with 1 Axes>"
      ]
     },
     "metadata": {
      "needs_background": "light"
     },
     "output_type": "display_data"
    }
   ],
   "source": [
    "plt.plot(125);\n",
    "plt.title('LIMIT_BALL distribution for default = 0 / 1');\n",
    "plt.hist(credit_story.LIMIT_BAL.loc[credit_story.default == 0], color = 'gray', label='Default = 0');\n",
    "plt.hist(credit_story.LIMIT_BAL.loc[credit_story.default == 1], color = 'olive', label='Default = 1');\n",
    "plt.legend();\n",
    "\n",
    "#people tend to pay off bigger amounts"
   ]
  },
  {
   "cell_type": "code",
   "execution_count": 10,
   "id": "bcad7917",
   "metadata": {},
   "outputs": [
    {
     "name": "stdout",
     "output_type": "stream",
     "text": [
      "Median LIMIT_BAL for default = 0: 150000\n",
      "Median LIMIT_BAL for default = 1: 90000\n"
     ]
    }
   ],
   "source": [
    "# H_o -- medians are equal\n",
    "# H_a -- nediands aren't equal\n",
    "\n",
    "\n",
    "lim_bal_0 = credit_story.LIMIT_BAL.loc[credit_story.default == 0]\n",
    "lim_bal_1 = credit_story.LIMIT_BAL.loc[credit_story.default == 1]\n",
    "\n",
    "print('Median LIMIT_BAL for default = 0: %.0f' % lim_bal_0.median())\n",
    "print('Median LIMIT_BAL for default = 1: %.0f' % lim_bal_1.median())"
   ]
  },
  {
   "cell_type": "code",
   "execution_count": 12,
   "id": "ba2bfeb3",
   "metadata": {},
   "outputs": [],
   "source": [
    "# binomial distribution\n",
    "\n",
    "def zconfint_binom(n, p, alpha=0.05):\n",
    "    q = 1 - p\n",
    "    m = n * p\n",
    "    var = n * p * q\n",
    "    z_stat = stats.norm.ppf(1 - alpha / 2)\n",
    "    l_bound = int(round(m - z_stat * np.sqrt(var)))\n",
    "    u_bound = int(round(m + z_stat * np.sqrt(var)))\n",
    "    return (l_bound, u_bound)"
   ]
  },
  {
   "cell_type": "code",
   "execution_count": 13,
   "id": "8ceaed28",
   "metadata": {},
   "outputs": [
    {
     "name": "stdout",
     "output_type": "stream",
     "text": [
      "Conf. int. median LIMIT_BAL for default = 0: [150000, 150000]\n",
      "Conf. int. median LIMIT_BAL for default = 1: [80000, 90000]\n"
     ]
    }
   ],
   "source": [
    "lim_bal_0_s = np.sort(lim_bal_0.values)\n",
    "lim_bal_1_s = np.sort(lim_bal_1.values)\n",
    "\n",
    "l_ind_0, u_ind_0 = zconfint_binom(len(lim_bal_0_s), 0.5)\n",
    "l_ind_1, u_ind_1 = zconfint_binom(len(lim_bal_1_s), 0.5)\n",
    "\n",
    "print('Conf. int. median LIMIT_BAL for default = 0: [%d, %d]' % (lim_bal_0_s[l_ind_0], lim_bal_0_s[u_ind_0]))\n",
    "print('Conf. int. median LIMIT_BAL for default = 1: [%d, %d]' % (lim_bal_1_s[l_ind_1], lim_bal_1_s[u_ind_1]))"
   ]
  },
  {
   "cell_type": "code",
   "execution_count": 55,
   "id": "5ff46264",
   "metadata": {},
   "outputs": [],
   "source": [
    "# bootstrap\n",
    "\n",
    "def get_bootstrap_samples(data, n_samples):\n",
    "    indices = np.random.randint(0, len(data), (n_samples, len(data)))\n",
    "    samples = data[indices]\n",
    "    return samples\n",
    "\n",
    "def stat_intervals(stat, alpha):\n",
    "    boundaries = np.percentile(stat, [100 * alpha / 2., 100 * (1 - alpha / 2.)])\n",
    "    return boundaries"
   ]
  },
  {
   "cell_type": "code",
   "execution_count": 17,
   "id": "7383b1cb",
   "metadata": {},
   "outputs": [
    {
     "name": "stdout",
     "output_type": "stream",
     "text": [
      "Conf. int. median LIMIT_BAL for default = 0: [150000, 150000]\n",
      "Conf. int. median LIMIT_BAL for default = 1: [80000, 90000]\n"
     ]
    }
   ],
   "source": [
    "np.random.seed(0)\n",
    "\n",
    "lim_bal_0_bs_med = list(map(np.median, get_bootstrap_samples(lim_bal_0.values, 100)))\n",
    "lim_bal_1_bs_med = list(map(np.median, get_bootstrap_samples(lim_bal_1.values, 100)))\n",
    "\n",
    "bnd_0 = stat_intervals(lim_bal_0_bs_med, 0.05)\n",
    "bnd_1 = stat_intervals(lim_bal_1_bs_med, 0.05)\n",
    "\n",
    "print('Conf. int. median LIMIT_BAL for default = 0: [%d, %d]' % (bnd_0[0], bnd_0[1]))\n",
    "print('Conf. int. median LIMIT_BAL for default = 1: [%d, %d]' % (bnd_1[0], bnd_1[1]))"
   ]
  },
  {
   "cell_type": "code",
   "execution_count": null,
   "id": "9c5d57c4",
   "metadata": {},
   "outputs": [],
   "source": [
    "# medians are different: people who don't pay back tend to take less money"
   ]
  },
  {
   "cell_type": "code",
   "execution_count": null,
   "id": "53a42d7f",
   "metadata": {},
   "outputs": [],
   "source": [
    "H_o -- sample distributions are equal\n",
    "H_a -- sample distributions are shifted"
   ]
  },
  {
   "cell_type": "code",
   "execution_count": 67,
   "id": "ce8867f0",
   "metadata": {},
   "outputs": [],
   "source": [
    "def permutation_t_stat_ind(sample1, sample2):\n",
    "    return np.mean(sample1) - np.mean(sample2)\n",
    "\n",
    "def get_random_combinations(n1, n2, max_combinations):\n",
    "    index = np.arange(n1 + n2)\n",
    "    indices = set([tuple(index)])\n",
    "    for i in range(max_combinations - 1):\n",
    "        np.random.shuffle(index)\n",
    "        indices.add(tuple(index))\n",
    "    return [(index[:n1], index[n1:]) for index in indices]"
   ]
  },
  {
   "cell_type": "code",
   "execution_count": 68,
   "id": "c73b045e",
   "metadata": {},
   "outputs": [],
   "source": [
    "def permutation_zero_dist_ind(sample1, sample2, max_combinations=None):\n",
    "    joined_sample = np.hstack((sample1, sample2))\n",
    "    n1 = len(sample1)\n",
    "    n = len(joined_sample)\n",
    "    \n",
    "    if max_combinations:\n",
    "        indices = get_random_combinations(n1, len(sample2), max_combinations)\n",
    "    else:\n",
    "        indices = [(list(index), filter(lambda i: i not in index, range(n))) \\\n",
    "                    for index in itertools.combinations(range(n), n1)]\n",
    "    \n",
    "    distr = [joined_sample[list(i[0])].mean() - joined_sample[list(i[1])].mean() \\\n",
    "             for i in indices]\n",
    "    return distr"
   ]
  },
  {
   "cell_type": "code",
   "execution_count": 69,
   "id": "51ca6c2e",
   "metadata": {},
   "outputs": [],
   "source": [
    "def permutation_test(sample1, sample2, max_permutations=None, alternative='two-sided'):\n",
    "    if alternative not in ('two-sided', 'less', 'greater'):\n",
    "        raise ValueError(\"alternative not recognized\\n\"\n",
    "                         \"should be 'two-sided', 'less' or 'greater'\")\n",
    "    \n",
    "    t_stat = permutation_t_stat_ind(sample1, sample2)\n",
    "    \n",
    "    zero_distr = permutation_zero_dist_ind(sample1, sample2, max_permutations)\n",
    "    \n",
    "    if alternative == 'two-sided':\n",
    "        return sum([1. if abs(x) >= abs(t_stat) else 0. for x in zero_distr]) / len(zero_distr)\n",
    "    \n",
    "    if alternative == 'less':\n",
    "        return sum([1. if x <= t_stat else 0. for x in zero_distr]) / len(zero_distr)\n",
    "\n",
    "    if alternative == 'greater':\n",
    "        return sum([1. if x >= t_stat else 0. for x in zero_distr]) / len(zero_distr)\n"
   ]
  },
  {
   "cell_type": "code",
   "execution_count": 25,
   "id": "00939aff",
   "metadata": {},
   "outputs": [
    {
     "name": "stdout",
     "output_type": "stream",
     "text": [
      "p-value: 0.001000\n"
     ]
    }
   ],
   "source": [
    "print('p-value: %f' % permutation_test(lim_bal_0, lim_bal_1, max_permutations=1000))"
   ]
  },
  {
   "cell_type": "code",
   "execution_count": null,
   "id": "cde48667",
   "metadata": {},
   "outputs": [],
   "source": [
    "# we reject null hypothesis with alpha = 0.05 Difference in medians LIMIT_BALL is significant"
   ]
  },
  {
   "cell_type": "markdown",
   "id": "210636ad",
   "metadata": {},
   "source": [
    "## 2. Gender: test whether gender composition of two groups differ."
   ]
  },
  {
   "cell_type": "code",
   "execution_count": 72,
   "id": "3432f990",
   "metadata": {},
   "outputs": [
    {
     "data": {
      "image/png": "[encoded data removed]",
      "text/plain": [
       "<Figure size 432x288 with 1 Axes>"
      ]
     },
     "metadata": {
      "needs_background": "light"
     },
     "output_type": "display_data"
    }
   ],
   "source": [
    "plt.plot(130);\n",
    "plt.title('Gender Composition');\n",
    "plt.hist(credit_story['GENDER'], color = 'olive');"
   ]
  },
  {
   "cell_type": "code",
   "execution_count": 10,
   "id": "6b3dc0cf",
   "metadata": {},
   "outputs": [
    {
     "data": {
      "image/png": "[encoded data removed]",
      "text/plain": [
       "<Figure size 432x288 with 1 Axes>"
      ]
     },
     "metadata": {
      "needs_background": "light"
     },
     "output_type": "display_data"
    }
   ],
   "source": [
    "plt.plot(130);\n",
    "plt.title('Gender Composition');\n",
    "plt.hist(credit_story.GENDER.loc[credit_story.default == 0], color = 'gray', label='Default = 0');\n",
    "plt.hist(credit_story.GENDER.loc[credit_story.default == 1], color = 'olive', label='Default = 1');\n",
    "plt.legend();\n",
    "\n",
    "# women tend to be among non-payers more often than men"
   ]
  },
  {
   "cell_type": "markdown",
   "id": "1f25698c",
   "metadata": {},
   "source": [
    "Let's check hypothesis that proportion of payers and non-payers is different. For this, I'll find confidence intervalse for payers, non-payers, and the difference."
   ]
  },
  {
   "cell_type": "code",
   "execution_count": 16,
   "id": "995a0333",
   "metadata": {},
   "outputs": [
    {
     "name": "stdout",
     "output_type": "stream",
     "text": [
      "proportions of men for default = 0: 0.3859\n",
      "proportions of men for default = 1: 0.4329\n"
     ]
    }
   ],
   "source": [
    "#samples of gender for default = 0/1\n",
    "gender_0 = credit_story.GENDER.loc[credit_story.default == 0].values\n",
    "gender_1 = credit_story.GENDER.loc[credit_story.default == 1].values\n",
    "\n",
    "#proportions of men to women in samples\n",
    "m_to_w_0 = np.where(gender_0 == 1)[0].shape[0] / gender_0.shape[0]\n",
    "m_to_w_1 = np.where(gender_1 == 1)[0].shape[0] / gender_1.shape[0]\n",
    "\n",
    "print('proportions of men for default = 0: %.4f' % m_to_w_0)\n",
    "print('proportions of men for default = 1: %.4f' % m_to_w_1)"
   ]
  },
  {
   "cell_type": "code",
   "execution_count": 19,
   "id": "bc40ec53",
   "metadata": {},
   "outputs": [
    {
     "name": "stdout",
     "output_type": "stream",
     "text": [
      "confidence interval for proportions of men or default = 0: [0.3796, 0.3921]\n",
      "confidence interval for proportions of men or default = 1: [0.4210, 0.4449]\n"
     ]
    }
   ],
   "source": [
    "#confidence intervals for proportions\n",
    "conf_int_0 = proportion_confint(np.where(gender_0 == 1)[0].shape[0], gender_0.shape[0])\n",
    "conf_int_1 = proportion_confint(np.where(gender_1 == 1)[0].shape[0], gender_1.shape[0])\n",
    "\n",
    "print('confidence interval for proportions of men or default = 0: [%.4f, %.4f]' % conf_int_0)\n",
    "print('confidence interval for proportions of men or default = 1: [%.4f, %.4f]' % conf_int_1)\n",
    "\n",
    "# since confidence intervals don't intercept, I can conclude that genders are different "
   ]
  },
  {
   "cell_type": "code",
   "execution_count": 20,
   "id": "a177d318",
   "metadata": {},
   "outputs": [
    {
     "name": "stdout",
     "output_type": "stream",
     "text": [
      "confidence interval for difference: [-0.060548, -0.033635]\n"
     ]
    }
   ],
   "source": [
    "def proportions_confint_diff_ind(sample1, sample2, alpha = 0.05):    \n",
    "    z = stats.norm.ppf(1 - alpha / 2.)   \n",
    "    p1 = float(sum(sample1)) / len(sample1)\n",
    "    p2 = float(sum(sample2)) / len(sample2)\n",
    "    \n",
    "    left_boundary = (p1 - p2) - z * np.sqrt(p1 * (1 - p1) / len(sample1) + p2 * (1 - p2) / len(sample2))\n",
    "    right_boundary = (p1 - p2) + z * np.sqrt(p1 * (1 - p1) / len(sample1) + p2 * (1 - p2) / len(sample2))\n",
    "    \n",
    "    return (left_boundary, right_boundary)\n",
    "\n",
    "print('confidence interval for difference: [%f, %f]' % proportions_confint_diff_ind(np.abs(sex_0-2), np.abs(sex_1-2)))"
   ]
  },
  {
   "cell_type": "markdown",
   "id": "fa20e10f",
   "metadata": {},
   "source": [
    "Let's take a Z-test for two independent samples.\n",
    "H_o: gender distribution is the same\n",
    "H_a: gender distribution is not the same    "
   ]
  },
  {
   "cell_type": "code",
   "execution_count": 21,
   "id": "f725e60a",
   "metadata": {},
   "outputs": [],
   "source": [
    "def proportions_diff_z_stat_ind(sample1, sample2):\n",
    "    n1 = len(sample1)\n",
    "    n2 = len(sample2)\n",
    "    \n",
    "    p1 = float(sum(sample1)) / n1\n",
    "    p2 = float(sum(sample2)) / n2 \n",
    "    P = float(p1*n1 + p2*n2) / (n1 + n2)\n",
    "    \n",
    "    return (p1 - p2) / np.sqrt(P * (1 - P) * (1. / n1 + 1. / n2))\n",
    "\n",
    "def proportions_diff_z_test(z_stat, alternative='two-sided'):\n",
    "    if alternative not in ('two-sided', 'less', 'greater'):\n",
    "        raise ValueError(\"alternative not recognized\\n\"\n",
    "                         \"should be 'two-sided', 'less' or 'greater'\")\n",
    "    \n",
    "    if alternative == 'two-sided':\n",
    "        return 2 * (1 - stats.norm.cdf(np.abs(z_stat)))\n",
    "    \n",
    "    if alternative == 'less':\n",
    "        return stats.norm.cdf(z_stat)\n",
    "\n",
    "    if alternative == 'greater':\n",
    "        return 1 - stats.norm.cdf(z_stat)"
   ]
  },
  {
   "cell_type": "code",
   "execution_count": 22,
   "id": "cb521f5b",
   "metadata": {},
   "outputs": [
    {
     "name": "stdout",
     "output_type": "stream",
     "text": [
      "p-value: 0.000000000004473\n"
     ]
    }
   ],
   "source": [
    "print('p-value: %.15f' % proportions_diff_z_test(proportions_diff_z_stat_ind(np.abs(sex_0-2), np.abs(sex_1-2))))\n",
    "\n",
    "# we reject H_o and find the result practically significant "
   ]
  },
  {
   "cell_type": "markdown",
   "id": "c918d43d",
   "metadata": {},
   "source": [
    "## 3. Education: test whether education levels differs between two groups. If it does, then how exactly?"
   ]
  },
  {
   "cell_type": "code",
   "execution_count": 28,
   "id": "8d117632",
   "metadata": {},
   "outputs": [
    {
     "data": {
      "image/png": "[encoded data removed]",
      "text/plain": [
       "<Figure size 432x288 with 1 Axes>"
      ]
     },
     "metadata": {
      "needs_background": "light"
     },
     "output_type": "display_data"
    }
   ],
   "source": [
    "plt.plot(125)\n",
    "plt.title('Education distribution');\n",
    "plt.hist(credit_story['EDUCATION'], color = 'grey');"
   ]
  },
  {
   "cell_type": "code",
   "execution_count": 24,
   "id": "654ba475",
   "metadata": {},
   "outputs": [
    {
     "data": {
      "image/png": "[encoded data removed]",
      "text/plain": [
       "<Figure size 432x288 with 1 Axes>"
      ]
     },
     "metadata": {
      "needs_background": "light"
     },
     "output_type": "display_data"
    }
   ],
   "source": [
    "plt.plot(125);\n",
    "plt.title('Education distribution');\n",
    "plt.hist(credit_story.EDUCATION.loc[credit_story.default == 0], color = 'gray', label='Default = 0');\n",
    "plt.hist(credit_story.EDUCATION.loc[credit_story.default == 1], color = 'olive', label='Default = 1');\n",
    "plt.legend();\n",
    "\n",
    "# we see that normally people with Bachelor's and Master's degree take loans, but I can't see much difference \n",
    "# in proportions of payers and non-payers"
   ]
  },
  {
   "cell_type": "markdown",
   "id": "4b2b28ca",
   "metadata": {},
   "source": [
    "Let's check if the level of education influences whether or not a person will pay back a loan."
   ]
  },
  {
   "cell_type": "code",
   "execution_count": 31,
   "id": "1920082e",
   "metadata": {},
   "outputs": [
    {
     "name": "stdout",
     "output_type": "stream",
     "text": [
      "proportions of default = 0 for education = 0: 1.00\n",
      "proportions of default = 0 for education = 1: 0.81\n",
      "proportions of default = 0 for education = 2: 0.76\n",
      "proportions of default = 0 for education = 3: 0.75\n",
      "proportions of default = 0 for education = 4: 0.94\n",
      "proportions of default = 0 for education = 5: 0.94\n",
      "proportions of default = 0 for education = 6: 0.84\n"
     ]
    },
    {
     "data": {
      "image/png": "[encoded data removed]",
      "text/plain": [
       "<Figure size 504x216 with 1 Axes>"
      ]
     },
     "metadata": {
      "needs_background": "light"
     },
     "output_type": "display_data"
    }
   ],
   "source": [
    "# histogram for proportion of paid back credits\n",
    "\n",
    "#samples of education for default = 0/1\n",
    "edu = credit_story.EDUCATION\n",
    "edu_0 = credit_story.EDUCATION.loc[credit_story.default == 0]\n",
    "edu_1 = credit_story.EDUCATION.loc[credit_story.default == 1]\n",
    "\n",
    "#proportions of paid back credit\n",
    "edu_prop = np.empty( (len(np.unique(edu_0)), 2) )\n",
    "for i, ed_val in enumerate(np.unique(edu)):\n",
    "    edu_prop[i, 0] = ed_val\n",
    "    edu_prop[i, 1] = edu_0[edu_0 == ed_val].shape[0] / (edu_0[edu_0 == ed_val].shape[0] + edu_1[edu_1 == ed_val].shape[0])\n",
    "\n",
    "for ed_val, prop in edu_prop:\n",
    "    print('proportions of default = 0 for education = %d: %.2f' % (ed_val, prop))\n",
    "\n",
    "#histogram of education proportions distribution\n",
    "plt.figure(1, figsize=(7,3));\n",
    "plt.title('Education proportions distribution');\n",
    "plt.plot(edu_prop[:,0], edu_prop[:,1]);\n",
    "plt.axis([0, 6, 0.5, 1]);"
   ]
  },
  {
   "cell_type": "markdown",
   "id": "4db0e9ce",
   "metadata": {},
   "source": [
    "We see from the graph that the destribution isn't normal with only PhD returning all the credits. Bachelor's and High school levels are most unlikely to pay back.\n",
    "\n",
    "Let's take a Pearson's test with H_0 -- it doesn't have normal distribution against H_a that H_0 is false.\n",
    "Let's calculate the mean value of credits return among customers with different education level."
   ]
  },
  {
   "cell_type": "code",
   "execution_count": 33,
   "id": "7658fee3",
   "metadata": {},
   "outputs": [
    {
     "name": "stdout",
     "output_type": "stream",
     "text": [
      "Mean proportion: 0.86\n"
     ]
    }
   ],
   "source": [
    "mean = edu_prop[:,1].mean()\n",
    "print('Mean proportion: %.2f' % mean)"
   ]
  },
  {
   "cell_type": "code",
   "execution_count": 34,
   "id": "e530996e",
   "metadata": {},
   "outputs": [
    {
     "name": "stdout",
     "output_type": "stream",
     "text": [
      "education level 0: 14 / 0 | 14\n",
      "education level 1: 8549 / 2036 | 10585\n",
      "education level 2: 10700 / 3330 | 14030\n",
      "education level 3: 3680 / 1237 | 4917\n",
      "education level 4: 116 / 7 | 123\n",
      "education level 5: 262 / 18 | 280\n",
      "education level 6: 43 / 8 | 51\n",
      "Legend: deafault = 0 / default = 1 | total\n"
     ]
    }
   ],
   "source": [
    "#sample sizes for different education levels\n",
    "\n",
    "edu_num_0 = np.array([edu_0[edu_0 == ed_val].shape[0] for ed_val in range(7)])\n",
    "edu_num_1 = np.array([edu_1[edu_1 == ed_val].shape[0] for ed_val in range(7)])\n",
    "edu_num = edu_num_0 + edu_num_1\n",
    "\n",
    "for i in range(7):\n",
    "    print('education level %d: %d / %d | %d' % (i, edu_num_0[i], edu_num_1[i], edu_num[i]))\n",
    "print('Legend: deafault = 0 / default = 1 | total')"
   ]
  },
  {
   "cell_type": "code",
   "execution_count": 36,
   "id": "c37a0dc3",
   "metadata": {},
   "outputs": [
    {
     "name": "stdout",
     "output_type": "stream",
     "text": [
      "education level 0: 12 / 14 | 1\n",
      "education level 1: 9134 / 8549 | -585\n",
      "education level 2: 12107 / 10700 | -1407\n",
      "education level 3: 4243 / 3680 | -563\n",
      "education level 4: 106 / 116 | 9\n",
      "education level 5: 241 / 262 | 20\n",
      "education level 6: 44 / 43 | -1\n",
      "Legend: exp freq / obs freq = 1 | delta\n"
     ]
    }
   ],
   "source": [
    "#expected frequencies\n",
    "\n",
    "exp_freq = np.array([mean * edu_num[i] for i in range(7)])\n",
    "\n",
    "for i in range(7):\n",
    "    print('education level %d: %d / %d | %d' % (i, exp_freq[i], edu_num_0[i], edu_num_0[i] - exp_freq[i]))\n",
    "print('Legend: exp freq / obs freq = 1 | delta')"
   ]
  },
  {
   "cell_type": "code",
   "execution_count": 37,
   "id": "56d94cb8",
   "metadata": {},
   "outputs": [
    {
     "data": {
      "text/plain": [
       "Power_divergenceResult(statistic=278.7725391716089, pvalue=3.653181595163598e-58)"
      ]
     },
     "execution_count": 37,
     "metadata": {},
     "output_type": "execute_result"
    }
   ],
   "source": [
    "#chi-square test\n",
    "\n",
    "stats.chisquare(edu_num_0, exp_freq, ddof = 1)"
   ]
  },
  {
   "cell_type": "code",
   "execution_count": 39,
   "id": "733b4be0",
   "metadata": {},
   "outputs": [],
   "source": [
    "# we reject the hypothesis of equal distribution -- the return percentage differs a lot among people \n",
    "# with different levels of education."
   ]
  },
  {
   "cell_type": "markdown",
   "id": "596f0b00",
   "metadata": {},
   "source": [
    "## 4.    Marital status: Check how marital status is related to the default indicator: you need to propose a measure by which you can measure the possible relationship of these variables and calculate its value."
   ]
  },
  {
   "cell_type": "code",
   "execution_count": 43,
   "id": "bd240d9c",
   "metadata": {},
   "outputs": [
    {
     "data": {
      "image/png": "[encoded data removed]",
      "text/plain": [
       "<Figure size 432x288 with 1 Axes>"
      ]
     },
     "metadata": {
      "needs_background": "light"
     },
     "output_type": "display_data"
    }
   ],
   "source": [
    "plt.plot(120);\n",
    "plt.title('Marriage distribution');\n",
    "plt.hist(credit_story['MARITAL'], color = 'olive');"
   ]
  },
  {
   "cell_type": "code",
   "execution_count": 44,
   "id": "6a334184",
   "metadata": {},
   "outputs": [
    {
     "data": {
      "image/png": "[encoded data removed]",
      "text/plain": [
       "<Figure size 432x288 with 1 Axes>"
      ]
     },
     "metadata": {
      "needs_background": "light"
     },
     "output_type": "display_data"
    }
   ],
   "source": [
    "plt.plot(120);\n",
    "plt.title('Marriage distribution');\n",
    "plt.hist(credit_story.MARITAL.loc[credit_story.default == 0], color = 'gray', label='Default = 0');\n",
    "plt.hist(credit_story.MARITAL.loc[credit_story.default == 1], color = 'olive', label='Default = 1');\n",
    "plt.legend();\n",
    "\n",
    "# there is about 10% difference between return rate in married and single people"
   ]
  },
  {
   "cell_type": "code",
   "execution_count": 45,
   "id": "0aae1331",
   "metadata": {},
   "outputs": [
    {
     "name": "stdout",
     "output_type": "stream",
     "text": [
      "Value counts for marriage:\n"
     ]
    },
    {
     "data": {
      "text/plain": [
       "2    15964\n",
       "1    13659\n",
       "3      323\n",
       "0       54\n",
       "Name: MARITAL, dtype: int64"
      ]
     },
     "execution_count": 45,
     "metadata": {},
     "output_type": "execute_result"
    }
   ],
   "source": [
    "#samples of MARITAL for default = 0/1\n",
    "\n",
    "marital = credit_story.MARITAL\n",
    "marital_0 = credit_story.MARITAL.loc[credit_story.default == 0]\n",
    "marital_1 = credit_story.MARITAL.loc[credit_story.default == 1]\n",
    "\n",
    "print('Value counts for marriage:')\n",
    "marital.value_counts()"
   ]
  },
  {
   "cell_type": "code",
   "execution_count": 46,
   "id": "561c66a1",
   "metadata": {},
   "outputs": [
    {
     "name": "stdout",
     "output_type": "stream",
     "text": [
      "[[4.9000e+01 5.0000e+00]\n",
      " [1.0453e+04 3.2060e+03]\n",
      " [1.2623e+04 3.3410e+03]\n",
      " [2.3900e+02 8.4000e+01]]\n"
     ]
    }
   ],
   "source": [
    "conf_matrix = np.empty( (len(marital.value_counts()), 2) )\n",
    "for i in range(len(marital.value_counts())):\n",
    "    conf_matrix[i, 0] = len(marital_0.loc[marital_0 == i])\n",
    "    conf_matrix[i, 1] = len(marital_1.loc[marital_1 == i])\n",
    "print(conf_matrix)"
   ]
  },
  {
   "cell_type": "code",
   "execution_count": 47,
   "id": "e1dfbfda",
   "metadata": {},
   "outputs": [
    {
     "name": "stdout",
     "output_type": "stream",
     "text": [
      "V Cramer stat value: 0.0345\n"
     ]
    }
   ],
   "source": [
    "def cramers_stat(confusion_matrix):\n",
    "    chi2 = stats.chi2_contingency(confusion_matrix)[0]\n",
    "    n = confusion_matrix.sum()\n",
    "    return np.sqrt(chi2 / (n*(min(confusion_matrix.shape)-1)))\n",
    "\n",
    "print('V Cramer stat value: %.4f' % cramers_stat(conf_matrix))\n",
    "\n",
    "# I believe that confusion matrix and Cramer's V is beyond the scope of our course. \n",
    "# For Cramer's V (coefficient) please refer to https://wiki5.ru/wiki/Cram%C3%A9r's_V\n",
    "# For confusion matrix, to our ML course at Udemy we all took last year"
   ]
  },
  {
   "cell_type": "markdown",
   "id": "b493934d",
   "metadata": {},
   "source": [
    "Crammer's V close to zero means there is no association between variables.  Therefore, it doesn't matter whether a person is married or not. "
   ]
  },
  {
   "cell_type": "markdown",
   "id": "f64fe91f",
   "metadata": {},
   "source": [
    "## 5. Age: test whether there are differences between mean ages of clients in two groups."
   ]
  },
  {
   "cell_type": "code",
   "execution_count": 49,
   "id": "1cfaba79",
   "metadata": {},
   "outputs": [
    {
     "data": {
      "image/png": "[encoded data removed]",
      "text/plain": [
       "<Figure size 432x288 with 1 Axes>"
      ]
     },
     "metadata": {
      "needs_background": "light"
     },
     "output_type": "display_data"
    }
   ],
   "source": [
    "plt.plot(125);\n",
    "plt.title('Age distribution');\n",
    "plt.hist(credit_story['AGE'], color = 'gray');"
   ]
  },
  {
   "cell_type": "code",
   "execution_count": 51,
   "id": "e3a2462a",
   "metadata": {},
   "outputs": [
    {
     "data": {
      "image/png": "[encoded data removed]",
      "text/plain": [
       "<Figure size 432x288 with 1 Axes>"
      ]
     },
     "metadata": {
      "needs_background": "light"
     },
     "output_type": "display_data"
    }
   ],
   "source": [
    "plt.plot(125);\n",
    "plt.title('Age distribution for default = 0 / 1');\n",
    "plt.hist(credit_story.AGE.loc[credit_story.default == 0], color = 'gray', label='Default = 0');\n",
    "plt.hist(credit_story.AGE.loc[credit_story.default == 1], color = 'olive', label='Default = 1');\n",
    "plt.legend();\n",
    "\n",
    "# interestingly, people of age 30 tend to have the most of credits taken. However, there is no such difference \n",
    "# in age between those who didn't pay back."
   ]
  },
  {
   "cell_type": "code",
   "execution_count": 52,
   "id": "095f03e2",
   "metadata": {},
   "outputs": [
    {
     "name": "stdout",
     "output_type": "stream",
     "text": [
      "Median AGE for default = 0: 34\n",
      "Median AGE for default = 1: 34\n"
     ]
    }
   ],
   "source": [
    "# let's test H_0 -- medians are equal against H_a -- medians are different\n",
    "\n",
    "age_0 = credit_story.AGE.loc[credit_story.default == 0]\n",
    "age_1 = credit_story.AGE.loc[credit_story.default == 1]\n",
    "\n",
    "print('Median AGE for default = 0: %.0f' % age_0.median())\n",
    "print('Median AGE for default = 1: %.0f' % age_1.median())"
   ]
  },
  {
   "cell_type": "code",
   "execution_count": 59,
   "id": "0c5505a9",
   "metadata": {},
   "outputs": [
    {
     "name": "stdout",
     "output_type": "stream",
     "text": [
      "confidence interval median AGE for default = 0: [34.000000, 34.000000]\n",
      "confidence interval median AGE for default = 1: [34.000000, 35.000000]\n"
     ]
    }
   ],
   "source": [
    "# bootstrap\n",
    "# confidence intervals estimation\n",
    "\n",
    "np.random.seed(0)\n",
    "\n",
    "age_0_bs_med = list(map(np.median, get_bootstrap_samples(age_0.values, 100)))\n",
    "age_1_bs_med = list(map(np.median, get_bootstrap_samples(age_1.values, 100)))\n",
    "\n",
    "bnd_0 = stat_intervals(age_0_bs_med, 0.05)\n",
    "bnd_1 = stat_intervals(age_1_bs_med, 0.05)\n",
    "\n",
    "print('confidence interval median AGE for default = 0: [%f, %f]' % (bnd_0[0], bnd_0[1]))\n",
    "print('confidence interval median AGE for default = 1: [%f, %f]' % (bnd_1[0], bnd_1[1]))\n",
    "\n",
    "# medians intersect"
   ]
  },
  {
   "cell_type": "code",
   "execution_count": 58,
   "id": "d36ae666",
   "metadata": {},
   "outputs": [
    {
     "name": "stdout",
     "output_type": "stream",
     "text": [
      "Difference between medians: 0.000000\n"
     ]
    }
   ],
   "source": [
    "print('Difference between medians: %f' % (np.median(age_0) - np.median(age_1)))"
   ]
  },
  {
   "cell_type": "code",
   "execution_count": 61,
   "id": "aec0eba0",
   "metadata": {},
   "outputs": [
    {
     "name": "stdout",
     "output_type": "stream",
     "text": [
      "95% confidence interval for the difference between medians: [0.000000, 1.000000]\n"
     ]
    }
   ],
   "source": [
    "delta_median_scores = list(map(lambda x: x[1] - x[0], zip(age_0_bs_med, age_1_bs_med)))\n",
    "stat_int = stat_intervals(delta_median_scores, 0.05)\n",
    "print('95%% confidence interval for the difference between medians: [%f, %f]' % (stat_int[0], stat_int[1]))\n",
    "\n",
    "# because of confidence interval containing 0, I conclude that there is no differences in medians."
   ]
  },
  {
   "cell_type": "markdown",
   "id": "5863f7e2",
   "metadata": {},
   "source": [
    "let's do a permutation test for independemt samples\n",
    "H_0 -- sample distributions are equal\n",
    "H_a -- sample distributions differ "
   ]
  },
  {
   "cell_type": "code",
   "execution_count": 70,
   "id": "15663a6f",
   "metadata": {},
   "outputs": [
    {
     "name": "stdout",
     "output_type": "stream",
     "text": [
      "p-value: 0.014000\n"
     ]
    }
   ],
   "source": [
    "print('p-value: %f' % permutation_test(age_0, age_1, max_permutations=1000))"
   ]
  },
  {
   "cell_type": "markdown",
   "id": "c6e7bc1f",
   "metadata": {},
   "source": [
    "We reject H_0 and confirm that age should be taken into consideration."
   ]
  }
 ],
 "metadata": {
  "kernelspec": {
   "display_name": "Python 3",
   "language": "python",
   "name": "python3"
  },
  "language_info": {
   "codemirror_mode": {
    "name": "ipython",
    "version": 3
   },
   "file_extension": ".py",
   "mimetype": "text/x-python",
   "name": "python",
   "nbconvert_exporter": "python",
   "pygments_lexer": "ipython3",
   "version": "3.8.8"
  }
 },
 "nbformat": 4,
 "nbformat_minor": 5
}
